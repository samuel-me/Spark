{
 "cells": [
  {
   "cell_type": "markdown",
   "metadata": {},
   "source": [
    "## Project summary\n",
    "* Data about amazon review is collected \n",
    "* A bit of data cleaning \n",
    "* The data is written in a CSV file\n",
    "* What the data looks like in a DataFrame"
   ]
  },
  {
   "cell_type": "code",
   "execution_count": null,
   "metadata": {},
   "outputs": [],
   "source": []
  },
  {
   "cell_type": "code",
   "execution_count": 4,
   "metadata": {},
   "outputs": [],
   "source": [
    "## Web scraping tools \n",
    "from selenium import webdriver\n",
    "import bs4\n",
    "import pyperclip"
   ]
  },
  {
   "cell_type": "code",
   "execution_count": 8,
   "metadata": {},
   "outputs": [
    {
     "name": "stdout",
     "output_type": "stream",
     "text": [
      "https://www.amazon.com/Samsung-Factory-Unlocked-Smartphone-Pro-Grade/product-reviews/B08FYTSXGQ/ref=cm_cr_dp_d_show_all_btm?ie=UTF8&reviewerType=all_reviews\n"
     ]
    }
   ],
   "source": [
    "## pyperclip allows you to access strings from your pc clip borad\n",
    "# just like saying \" Cntrl P\"\n",
    "url = pyperclip.paste()\n",
    "print(url)"
   ]
  },
  {
   "cell_type": "code",
   "execution_count": 9,
   "metadata": {},
   "outputs": [],
   "source": [
    "driver = webdriver.Chrome()\n",
    "driver.get(url)"
   ]
  },
  {
   "cell_type": "code",
   "execution_count": null,
   "metadata": {},
   "outputs": [],
   "source": []
  },
  {
   "cell_type": "markdown",
   "metadata": {},
   "source": [
    "## Data collection with  Beautifulsoup and selenium"
   ]
  },
  {
   "cell_type": "code",
   "execution_count": 60,
   "metadata": {},
   "outputs": [],
   "source": [
    "import time\n"
   ]
  },
  {
   "cell_type": "code",
   "execution_count": 117,
   "metadata": {},
   "outputs": [],
   "source": []
  },
  {
   "cell_type": "code",
   "execution_count": 231,
   "metadata": {},
   "outputs": [],
   "source": [
    "all_data = []"
   ]
  },
  {
   "cell_type": "code",
   "execution_count": null,
   "metadata": {},
   "outputs": [],
   "source": []
  },
  {
   "cell_type": "code",
   "execution_count": null,
   "metadata": {},
   "outputs": [],
   "source": [
    "for pages in range(143):\n",
    "    time.sleep(10) # the code waits for 10 seconds so all the elemts on the page fully loads \n",
    "    soup = bs4.BeautifulSoup(driver.page_source,'html.parser')\n",
    "\n",
    "    try:\n",
    "        # clicks the button to translate texts\n",
    "        trans = driver.find_elements_by_link_text('Translate review to English')\n",
    "        for index,info in enumerate(trans):\n",
    "            trans[index].click()\n",
    "    except:\n",
    "        print('no,spanish word')\n",
    "\n",
    "    \n",
    "    time.sleep(5)\n",
    "    father = soup.find_all('div',{'class':'a-section celwidget'})\n",
    "#     print('hi')\n",
    "    for i in range(len(father)):\n",
    "        name = father[i].div.text\n",
    "        print(name)\n",
    "\n",
    "        rating = father[i].find('a','a-link-normal').text\n",
    "#         print(rating)\n",
    "\n",
    "        try:\n",
    "            veryy = father[i].find('span','a-size-mini a-color-state a-text-bold').text\n",
    "        except:\n",
    "            verry = 'not_verified'\n",
    "\n",
    "        try:\n",
    "            soup = bs4.BeautifulSoup(driver.page_source,'html.parser')\n",
    "            father = soup.find_all('div',{'class':'a-section celwidget'})\n",
    "            text = father[i].find('span','a-size-base review-text review-text-content')\n",
    "            texts = text.find('span', {'class':'cr-translated-review-content'}).text\n",
    "            \n",
    "            summ = father[i].find('a','review-title')\n",
    "            summary = summ.find('span', {'class':'cr-translated-review-content'}).text\n",
    "            \n",
    "        except:\n",
    "            try:\n",
    "                soup = bs4.BeautifulSoup(driver.page_source,'html.parser')\n",
    "                father = soup.find_all('div',{'class':'a-section celwidget'})\n",
    "                initial = father[i].find('span','a-size-base review-text review-text-content')\n",
    "                text = initial.find_all('span')\n",
    "                texts= text[len(text)-1].text\n",
    "\n",
    "                summary = father[i].find('a','review-title').text\n",
    "            except:\n",
    "                texts = 'nil'\n",
    "                summary = 'nil'\n",
    "\n",
    "\n",
    "        all_data.append([name,rating,summary,veryy,texts])\n",
    "        print(name,texts,rating,summary)\n",
    "        \n",
    "    link = driver.find_element_by_class_name('a-last')\n",
    "    link.click()\n",
    "    \n",
    "    print('i am on page:',pages+1)"
   ]
  },
  {
   "cell_type": "code",
   "execution_count": null,
   "metadata": {},
   "outputs": [],
   "source": []
  },
  {
   "cell_type": "code",
   "execution_count": 233,
   "metadata": {},
   "outputs": [
    {
     "name": "stdout",
     "output_type": "stream",
     "text": [
      "1425\n"
     ]
    }
   ],
   "source": [
    "## incase of duplicates\n",
    "data2 =[]\n",
    "for i in all_data:\n",
    "    if i in data2:\n",
    "        pass\n",
    "    else:\n",
    "        data2.append(i)\n",
    "print(len(data2))\n",
    "\n",
    "main_data = data2[:]"
   ]
  },
  {
   "cell_type": "code",
   "execution_count": 201,
   "metadata": {},
   "outputs": [
    {
     "data": {
      "text/plain": [
       "['Luis Villalobos',\n",
       " '5.0 out of 5 stars',\n",
       " '\\nPerfect Seller!\\n',\n",
       " 'Verified Purchase',\n",
       " \"iPhone 12 PRO arrived in 2 days! Device is LIKE NEW LITERALLY, It's unlocked, battery at 100%. Recommended 101%\"]"
      ]
     },
     "execution_count": 201,
     "metadata": {},
     "output_type": "execute_result"
    }
   ],
   "source": [
    "# AN idea of the dat  collected  \n",
    "main_data[0]"
   ]
  },
  {
   "cell_type": "code",
   "execution_count": null,
   "metadata": {},
   "outputs": [],
   "source": []
  },
  {
   "cell_type": "markdown",
   "metadata": {},
   "source": [
    "## Data cleaning Functions\n",
    "* To remove emojis\n",
    "* And other dirts \n",
    "### It is better to do this fefore writing the data into a csv file"
   ]
  },
  {
   "cell_type": "code",
   "execution_count": 188,
   "metadata": {},
   "outputs": [],
   "source": [
    "import emoji\n",
    "def remove_emoji(data):\n",
    "    ### this gets rid of all emijis \n",
    "    new = clean(data)\n",
    "    for i in new:\n",
    "        if emoji.is_emoji(i):\n",
    "            new = new.replace(i,'')\n",
    "            print('i found this:',i)\n",
    "            \n",
    "    return new\n",
    "\n",
    "def clean(data):\n",
    "    dirt = [('â€™',\"\\'\"),('Â«::P::Â» Â«:::E:::Â» Â«:::R:::Â» Â«:::F:::Â» Â«:::E:::Â» Â«:::C:::Â» Â«:::T:::Â»',''),\n",
    "            ('The media could not be loaded.',''),('   ',''),('nil',''),('\\n','')]\n",
    "    for things in dirt:\n",
    "        data = data.replace(things[0],things[1])\n",
    "    \n",
    " \n",
    "    return data\n"
   ]
  },
  {
   "cell_type": "code",
   "execution_count": null,
   "metadata": {},
   "outputs": [],
   "source": []
  },
  {
   "cell_type": "markdown",
   "metadata": {},
   "source": [
    "## Writing the data into  a CSV File"
   ]
  },
  {
   "cell_type": "code",
   "execution_count": null,
   "metadata": {},
   "outputs": [],
   "source": []
  },
  {
   "cell_type": "code",
   "execution_count": 235,
   "metadata": {},
   "outputs": [
    {
     "name": "stdout",
     "output_type": "stream",
     "text": [
      "i found this: 😠\n",
      "i found this: 🌟\n",
      "i found this: 😫\n",
      "i found this: 😡\n",
      "i found this: 😊\n",
      "i found this: 😉\n",
      "i found this: 💕\n",
      "i found this: 👀\n",
      "i found this: 👍\n",
      "i found this: 👍\n",
      "i found this: 😀\n",
      "i found this: 😳\n",
      "i found this: 👍\n",
      "i found this: 😊\n",
      "i found this: ❤\n",
      "i found this: 🔋\n",
      "i found this: 🔋\n",
      "i found this: 😍\n",
      "i found this: 😀\n",
      "i found this: ❤\n",
      "i found this: 😞\n",
      "i found this: 😞\n",
      "i found this: 😞\n",
      "i found this: 😞\n",
      "i found this: 😞\n",
      "i found this: 💘\n",
      "i found this: 🙃\n",
      "i found this: 👍\n",
      "i found this: 👌\n",
      "i found this: 👌\n",
      "i found this: 😍\n",
      "i found this: 💘\n",
      "i found this: 👍\n",
      "i found this: 👌\n",
      "i found this: 😊\n",
      "i found this: 👍\n",
      "i found this: 😁\n",
      "i found this: 👍\n",
      "i found this: 😁\n",
      "i found this: 😇\n",
      "i found this: 🙏\n",
      "i found this: 💘\n",
      "i found this: 😤\n",
      "i found this: 📱\n",
      "i found this: ☺\n"
     ]
    }
   ],
   "source": [
    "import csv\n",
    "demo = open('Spark_Samsung.csv','w',newline='',encoding = 'utf-8')\n",
    "\n",
    "header = ['Name','Rating','Summary','Verified','Review']\n",
    "data_demo = csv.writer(demo,delimiter=',')\n",
    "data_demo.writerow(header) ## this is used to set the header \n",
    "\n",
    "for index,info in enumerate(main_data):\n",
    "    \n",
    "    name = main_data[index][0]\n",
    "           \n",
    "    rating = main_data[index][1]\n",
    "    summary = remove_emoji(main_data[index][2])\n",
    "    verified = main_data[index][3]\n",
    "    review = remove_emoji(main_data[index][4])\n",
    " \n",
    "    data_demo.writerow([str(name),str(rating),str(summary),str(verified),str(review)]) ## they directly correspond to the header \n",
    "\n",
    "    \n",
    "demo.close()"
   ]
  },
  {
   "cell_type": "markdown",
   "metadata": {},
   "source": [
    "## A view of the data in a DataFrame"
   ]
  },
  {
   "cell_type": "code",
   "execution_count": 191,
   "metadata": {},
   "outputs": [],
   "source": [
    "import pandas as pd"
   ]
  },
  {
   "cell_type": "code",
   "execution_count": 236,
   "metadata": {},
   "outputs": [
    {
     "data": {
      "text/html": [
       "<div>\n",
       "<style scoped>\n",
       "    .dataframe tbody tr th:only-of-type {\n",
       "        vertical-align: middle;\n",
       "    }\n",
       "\n",
       "    .dataframe tbody tr th {\n",
       "        vertical-align: top;\n",
       "    }\n",
       "\n",
       "    .dataframe thead th {\n",
       "        text-align: right;\n",
       "    }\n",
       "</style>\n",
       "<table border=\"1\" class=\"dataframe\">\n",
       "  <thead>\n",
       "    <tr style=\"text-align: right;\">\n",
       "      <th></th>\n",
       "      <th>Name</th>\n",
       "      <th>Rating</th>\n",
       "      <th>Summary</th>\n",
       "      <th>Verified</th>\n",
       "      <th>Review</th>\n",
       "    </tr>\n",
       "  </thead>\n",
       "  <tbody>\n",
       "    <tr>\n",
       "      <th>0</th>\n",
       "      <td>Jacob E</td>\n",
       "      <td>3.0 out of 5 stars</td>\n",
       "      <td>It's just OK</td>\n",
       "      <td>Verified Purchase</td>\n",
       "      <td>Coming from a pixel 2 I expected more.Front ca...</td>\n",
       "    </tr>\n",
       "    <tr>\n",
       "      <th>1</th>\n",
       "      <td>Shawn</td>\n",
       "      <td>3.0 out of 5 stars</td>\n",
       "      <td>Great phone, marred by some pretty big issues.</td>\n",
       "      <td>Verified Purchase</td>\n",
       "      <td>I decided on the Samsung Galaxy S20 FE for my ...</td>\n",
       "    </tr>\n",
       "    <tr>\n",
       "      <th>2</th>\n",
       "      <td>Tyrone</td>\n",
       "      <td>4.0 out of 5 stars</td>\n",
       "      <td>My Review of the S20 FE</td>\n",
       "      <td>Verified Purchase</td>\n",
       "      <td>Performance = 9 / 10 - fast Snapdragon cpu but...</td>\n",
       "    </tr>\n",
       "    <tr>\n",
       "      <th>3</th>\n",
       "      <td>Jake</td>\n",
       "      <td>4.0 out of 5 stars</td>\n",
       "      <td>Bait &amp; Switch?</td>\n",
       "      <td>Verified Purchase</td>\n",
       "      <td>When I purchased this it was listed as 8gb of ...</td>\n",
       "    </tr>\n",
       "    <tr>\n",
       "      <th>4</th>\n",
       "      <td>J</td>\n",
       "      <td>1.0 out of 5 stars</td>\n",
       "      <td>Terrible phone in every way.</td>\n",
       "      <td>Verified Purchase</td>\n",
       "      <td>Never again will I buy another Samsung phone. ...</td>\n",
       "    </tr>\n",
       "  </tbody>\n",
       "</table>\n",
       "</div>"
      ],
      "text/plain": [
       "      Name              Rating  \\\n",
       "0  Jacob E  3.0 out of 5 stars   \n",
       "1    Shawn  3.0 out of 5 stars   \n",
       "2   Tyrone  4.0 out of 5 stars   \n",
       "3     Jake  4.0 out of 5 stars   \n",
       "4        J  1.0 out of 5 stars   \n",
       "\n",
       "                                          Summary           Verified  \\\n",
       "0                                    It's just OK  Verified Purchase   \n",
       "1  Great phone, marred by some pretty big issues.  Verified Purchase   \n",
       "2                         My Review of the S20 FE  Verified Purchase   \n",
       "3                                  Bait & Switch?  Verified Purchase   \n",
       "4                    Terrible phone in every way.  Verified Purchase   \n",
       "\n",
       "                                              Review  \n",
       "0  Coming from a pixel 2 I expected more.Front ca...  \n",
       "1  I decided on the Samsung Galaxy S20 FE for my ...  \n",
       "2  Performance = 9 / 10 - fast Snapdragon cpu but...  \n",
       "3  When I purchased this it was listed as 8gb of ...  \n",
       "4  Never again will I buy another Samsung phone. ...  "
      ]
     },
     "execution_count": 236,
     "metadata": {},
     "output_type": "execute_result"
    }
   ],
   "source": [
    "df = pd.read_csv('Spark_Samsung.csv')\n",
    "df.head()"
   ]
  },
  {
   "cell_type": "code",
   "execution_count": 237,
   "metadata": {},
   "outputs": [
    {
     "data": {
      "text/plain": [
       "'Performance = 9 / 10 - fast Snapdragon cpu but only only 6gb ramDisplay = 8.7 / 10 -  120ghz is great  but screen is washed compared to s10/s20Batttery = 8.8 / 10 - all day batteryDesign = 8.7 / 10 -  flat screen but  bezels could be smallerCamera = 9 /10 - great main cameras - selfie camera is MEH and pics can be blurry on moving objectsFeatures = 9/10 - three years of software updates..5g...a lot of color options .. ip68 .. wireless charging .. dex'"
      ]
     },
     "execution_count": 237,
     "metadata": {},
     "output_type": "execute_result"
    }
   ],
   "source": [
    "df.Review[2]"
   ]
  },
  {
   "cell_type": "code",
   "execution_count": 238,
   "metadata": {},
   "outputs": [
    {
     "data": {
      "text/html": [
       "<div>\n",
       "<style scoped>\n",
       "    .dataframe tbody tr th:only-of-type {\n",
       "        vertical-align: middle;\n",
       "    }\n",
       "\n",
       "    .dataframe tbody tr th {\n",
       "        vertical-align: top;\n",
       "    }\n",
       "\n",
       "    .dataframe thead th {\n",
       "        text-align: right;\n",
       "    }\n",
       "</style>\n",
       "<table border=\"1\" class=\"dataframe\">\n",
       "  <thead>\n",
       "    <tr style=\"text-align: right;\">\n",
       "      <th></th>\n",
       "      <th>Name</th>\n",
       "      <th>Rating</th>\n",
       "      <th>Summary</th>\n",
       "      <th>Verified</th>\n",
       "      <th>Review</th>\n",
       "    </tr>\n",
       "  </thead>\n",
       "  <tbody>\n",
       "    <tr>\n",
       "      <th>1420</th>\n",
       "      <td>Ozzie_G</td>\n",
       "      <td>Color: Cloud OrangeSize: 128GBStyle: S20 FEPat...</td>\n",
       "      <td>NaN</td>\n",
       "      <td>Verified Purchase</td>\n",
       "      <td>NaN</td>\n",
       "    </tr>\n",
       "    <tr>\n",
       "      <th>1421</th>\n",
       "      <td>MA. I.</td>\n",
       "      <td>Color: Cloud NavySize: 128GBStyle: S20 FEPatte...</td>\n",
       "      <td>NaN</td>\n",
       "      <td>Verified Purchase</td>\n",
       "      <td>NaN</td>\n",
       "    </tr>\n",
       "    <tr>\n",
       "      <th>1422</th>\n",
       "      <td>Maricela</td>\n",
       "      <td>Color: Cloud NavySize: 128GBStyle: S20 FEPatte...</td>\n",
       "      <td>NaN</td>\n",
       "      <td>Verified Purchase</td>\n",
       "      <td>NaN</td>\n",
       "    </tr>\n",
       "    <tr>\n",
       "      <th>1423</th>\n",
       "      <td>Luis Angel</td>\n",
       "      <td>Color: Cloud NavySize: 128GBStyle: S20 FEPatte...</td>\n",
       "      <td>NaN</td>\n",
       "      <td>Verified Purchase</td>\n",
       "      <td>NaN</td>\n",
       "    </tr>\n",
       "    <tr>\n",
       "      <th>1424</th>\n",
       "      <td>Diego Díaz</td>\n",
       "      <td>Color: Cloud NavySize: 128GBStyle: S20 FEPatte...</td>\n",
       "      <td>NaN</td>\n",
       "      <td>Verified Purchase</td>\n",
       "      <td>NaN</td>\n",
       "    </tr>\n",
       "  </tbody>\n",
       "</table>\n",
       "</div>"
      ],
      "text/plain": [
       "            Name                                             Rating Summary  \\\n",
       "1420     Ozzie_G  Color: Cloud OrangeSize: 128GBStyle: S20 FEPat...     NaN   \n",
       "1421      MA. I.  Color: Cloud NavySize: 128GBStyle: S20 FEPatte...     NaN   \n",
       "1422    Maricela  Color: Cloud NavySize: 128GBStyle: S20 FEPatte...     NaN   \n",
       "1423  Luis Angel  Color: Cloud NavySize: 128GBStyle: S20 FEPatte...     NaN   \n",
       "1424  Diego Díaz  Color: Cloud NavySize: 128GBStyle: S20 FEPatte...     NaN   \n",
       "\n",
       "               Verified Review  \n",
       "1420  Verified Purchase    NaN  \n",
       "1421  Verified Purchase    NaN  \n",
       "1422  Verified Purchase    NaN  \n",
       "1423  Verified Purchase    NaN  \n",
       "1424  Verified Purchase    NaN  "
      ]
     },
     "execution_count": 238,
     "metadata": {},
     "output_type": "execute_result"
    }
   ],
   "source": [
    "df.tail()"
   ]
  },
  {
   "cell_type": "code",
   "execution_count": 239,
   "metadata": {},
   "outputs": [
    {
     "data": {
      "text/plain": [
       "Name          0\n",
       "Rating        0\n",
       "Summary     124\n",
       "Verified      0\n",
       "Review      123\n",
       "dtype: int64"
      ]
     },
     "execution_count": 239,
     "metadata": {},
     "output_type": "execute_result"
    }
   ],
   "source": [
    "df.isnull().sum()"
   ]
  },
  {
   "cell_type": "code",
   "execution_count": null,
   "metadata": {},
   "outputs": [],
   "source": []
  }
 ],
 "metadata": {
  "kernelspec": {
   "display_name": "Python 3",
   "language": "python",
   "name": "python3"
  },
  "language_info": {
   "codemirror_mode": {
    "name": "ipython",
    "version": 3
   },
   "file_extension": ".py",
   "mimetype": "text/x-python",
   "name": "python",
   "nbconvert_exporter": "python",
   "pygments_lexer": "ipython3",
   "version": "3.8.3"
  }
 },
 "nbformat": 4,
 "nbformat_minor": 4
}
